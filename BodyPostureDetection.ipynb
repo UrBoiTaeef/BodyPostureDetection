{
 "cells": [
  {
   "cell_type": "code",
   "execution_count": 1,
   "id": "4b1076fb-c345-4563-b139-9848e5f5314c",
   "metadata": {},
   "outputs": [],
   "source": [
    "from IPython.display import display, Image, clear_output\n",
    "import PIL.Image\n",
    "import io"
   ]
  },
  {
   "cell_type": "code",
   "execution_count": 2,
   "id": "d22334a6-d940-4dd9-a69c-2b3eaa3f77f1",
   "metadata": {},
   "outputs": [],
   "source": [
    "import cv2\n",
    "import time\n",
    "import math as m\n",
    "import mediapipe as mp"
   ]
  },
  {
   "cell_type": "code",
   "execution_count": 3,
   "id": "3219ea4b-7bfb-424d-bed0-3bde114a1672",
   "metadata": {},
   "outputs": [],
   "source": [
    "# Initilize medipipe selfie segmentation class.\n",
    "mp_pose = mp.solutions.pose\n",
    "mp_holistic = mp.solutions.holistic"
   ]
  },
  {
   "cell_type": "code",
   "execution_count": 4,
   "id": "33c3ae5f-5725-41bf-b97e-2f46358ed92e",
   "metadata": {},
   "outputs": [],
   "source": [
    "def findDistance(x1, y1, x2, y2):\n",
    "    dist = m.sqrt((x2-x1)**2+(y2-y1)**2)\n",
    "    return dist"
   ]
  },
  {
   "cell_type": "code",
   "execution_count": 5,
   "id": "7814ebb2-6294-4379-9676-bdd0399329c0",
   "metadata": {},
   "outputs": [],
   "source": [
    "# Calculate angle.\n",
    "def findAngle(x1, y1, x2, y2):\n",
    "    theta = m.acos((y2 -y1)*(-y1) / (m.sqrt((x2 - x1)**2 + (y2 - y1)**2) * y1))\n",
    "    degree = int(180/m.pi)*theta\n",
    "    return degree"
   ]
  },
  {
   "cell_type": "code",
   "execution_count": 6,
   "id": "c59f2b83-4d62-4a94-8294-4952ca22050c",
   "metadata": {},
   "outputs": [],
   "source": [
    "def sendWarning(image):\n",
    "    print(\"Alert! Poor posture detected!\")\n",
    "    cv2.putText(image, \"WARNING: Poor Posture!\", (50, 50), font, 1.5, red, 3)"
   ]
  },
  {
   "cell_type": "code",
   "execution_count": 7,
   "id": "7a0e1750-0a57-4cb4-a9f8-a9cedf2fb51f",
   "metadata": {},
   "outputs": [],
   "source": [
    "# Initilize frame counters.\n",
    "good_frames = 0\n",
    "bad_frames = 0\n",
    "\n",
    "# Font type.\n",
    "font = cv2.FONT_HERSHEY_SIMPLEX\n",
    "\n",
    "# Colors.\n",
    "blue = (255, 127, 0)\n",
    "red = (50, 50, 255)\n",
    "green = (127, 255, 0)\n",
    "dark_blue = (127, 20, 0)\n",
    "light_green = (127, 233, 100)\n",
    "yellow = (0, 255, 255)\n",
    "pink = (255, 0, 255)"
   ]
  },
  {
   "cell_type": "code",
   "execution_count": 8,
   "id": "854ebcb2-c53d-4e2a-8e0d-88cda87b1be6",
   "metadata": {},
   "outputs": [
    {
     "name": "stderr",
     "output_type": "stream",
     "text": [
      "INFO: Created TensorFlow Lite XNNPACK delegate for CPU.\n"
     ]
    }
   ],
   "source": [
    "# Initialize mediapipe pose class.\n",
    "mp_pose = mp.solutions.pose\n",
    "pose = mp_pose.Pose()\n",
    "\n",
    "# Initialize video capture object.\n",
    "# For webcam input replace file name with 0.\n",
    "cap = cv2.VideoCapture(0)\n",
    "\n",
    "# Meta.\n",
    "fps = int(cap.get(cv2.CAP_PROP_FPS))\n",
    "width = int(cap.get(cv2.CAP_PROP_FRAME_WIDTH))\n",
    "height = int(cap.get(cv2.CAP_PROP_FRAME_HEIGHT))\n",
    "frame_size = (width, height)\n",
    "fourcc = cv2.VideoWriter_fourcc(*'mp4v')\n",
    "\n",
    "# Initialize video writer.\n",
    "video_output = cv2.VideoWriter('output.mp4', fourcc, fps, frame_size)"
   ]
  },
  {
   "cell_type": "code",
   "execution_count": 9,
   "id": "ae6753d3-1825-4123-ba05-be7a92af58b3",
   "metadata": {},
   "outputs": [
    {
     "name": "stdout",
     "output_type": "stream",
     "text": [
      "FPS: 30\n"
     ]
    }
   ],
   "source": [
    "print(f\"FPS: {fps}\")"
   ]
  },
  {
   "cell_type": "code",
   "execution_count": 10,
   "id": "e3c14347-94a1-44e4-9f56-77a21fe9d203",
   "metadata": {},
   "outputs": [
    {
     "name": "stdout",
     "output_type": "stream",
     "text": [
      "Frame Captured\n"
     ]
    }
   ],
   "source": [
    "print(\"Frame Captured\")"
   ]
  },
  {
   "cell_type": "code",
   "execution_count": 11,
   "id": "8a8b48b1-9236-42b4-90bb-4b671ee89885",
   "metadata": {},
   "outputs": [
    {
     "ename": "KeyboardInterrupt",
     "evalue": "",
     "output_type": "error",
     "traceback": [
      "\u001b[0;31m---------------------------------------------------------------------------\u001b[0m",
      "\u001b[0;31mKeyboardInterrupt\u001b[0m                         Traceback (most recent call last)",
      "\u001b[0;32m/var/folders/7y/v1vd7p416c399zmjr4mxljb40000gn/T/ipykernel_4823/3050436067.py\u001b[0m in \u001b[0;36m<module>\u001b[0;34m\u001b[0m\n\u001b[1;32m      1\u001b[0m \u001b[0;32mwhile\u001b[0m \u001b[0mcap\u001b[0m\u001b[0;34m.\u001b[0m\u001b[0misOpened\u001b[0m\u001b[0;34m(\u001b[0m\u001b[0;34m)\u001b[0m\u001b[0;34m:\u001b[0m\u001b[0;34m\u001b[0m\u001b[0;34m\u001b[0m\u001b[0m\n\u001b[0;32m----> 2\u001b[0;31m     \u001b[0msuccess\u001b[0m\u001b[0;34m,\u001b[0m \u001b[0mimage\u001b[0m \u001b[0;34m=\u001b[0m \u001b[0mcap\u001b[0m\u001b[0;34m.\u001b[0m\u001b[0mread\u001b[0m\u001b[0;34m(\u001b[0m\u001b[0;34m)\u001b[0m\u001b[0;34m\u001b[0m\u001b[0;34m\u001b[0m\u001b[0m\n\u001b[0m\u001b[1;32m      3\u001b[0m     \u001b[0;32mif\u001b[0m \u001b[0;32mnot\u001b[0m \u001b[0msuccess\u001b[0m\u001b[0;34m:\u001b[0m\u001b[0;34m\u001b[0m\u001b[0;34m\u001b[0m\u001b[0m\n\u001b[1;32m      4\u001b[0m         \u001b[0mprint\u001b[0m\u001b[0;34m(\u001b[0m\u001b[0;34m\"Null.Frames\"\u001b[0m\u001b[0;34m)\u001b[0m\u001b[0;34m\u001b[0m\u001b[0;34m\u001b[0m\u001b[0m\n\u001b[1;32m      5\u001b[0m         \u001b[0;32mbreak\u001b[0m\u001b[0;34m\u001b[0m\u001b[0;34m\u001b[0m\u001b[0m\n",
      "\u001b[0;31mKeyboardInterrupt\u001b[0m: "
     ]
    }
   ],
   "source": [
    "while cap.isOpened():\n",
    "    success, image = cap.read()\n",
    "    if not success:\n",
    "        print(\"Null.Frames\")\n",
    "        break\n",
    "    \n",
    "    # Get fps.\n",
    "    fps = cap.get(cv2.CAP_PROP_FPS)\n",
    "    h, w = image.shape[:2]\n",
    "\n",
    "    # Convert the BGR image to RGB.\n",
    "    image = cv2.cvtColor(image, cv2.COLOR_BGR2RGB)\n",
    "\n",
    "    # Process the image.\n",
    "    keypoints = pose.process(image)\n",
    "\n",
    "    # Convert the image back to BGR.\n",
    "    image = cv2.cvtColor(image, cv2.COLOR_RGB2BGR)\n",
    "\n",
    "    # Get the landmarks.\n",
    "    lm = keypoints.pose_landmarks\n",
    "    lmPose = mp_pose.PoseLandmark\n",
    "\n",
    "    if lm:\n",
    "        # Acquire coordinates for shoulder, ear, and hip landmarks.\n",
    "        l_shldr_x = int(lm.landmark[lmPose.LEFT_SHOULDER].x * w)\n",
    "        l_shldr_y = int(lm.landmark[lmPose.LEFT_SHOULDER].y * h)\n",
    "        r_shldr_x = int(lm.landmark[lmPose.RIGHT_SHOULDER].x * w)\n",
    "        r_shldr_y = int(lm.landmark[lmPose.RIGHT_SHOULDER].y * h)\n",
    "        l_ear_x = int(lm.landmark[lmPose.LEFT_EAR].x * w)\n",
    "        l_ear_y = int(lm.landmark[lmPose.LEFT_EAR].y * h)\n",
    "        l_hip_x = int(lm.landmark[lmPose.LEFT_HIP].x * w)\n",
    "        l_hip_y = int(lm.landmark[lmPose.LEFT_HIP].y * h)\n",
    "\n",
    "        # Calculate the distances and angles.\n",
    "        offset = findDistance(l_shldr_x, l_shldr_y, r_shldr_x, r_shldr_y)\n",
    "        neck_inclination = findAngle(l_shldr_x, l_shldr_y, l_ear_x, l_ear_y)\n",
    "        torso_inclination = findAngle(l_hip_x, l_hip_y, l_shldr_x, l_shldr_y)\n",
    "\n",
    "        # Define the angle text string.\n",
    "        angle_text_string = 'Neck : ' + str(int(neck_inclination)) + '  Torso : ' + str(int(torso_inclination))\n",
    "\n",
    "        # Draw the key points and lines.\n",
    "        # --- [Draw landmarks and lines code here, unchanged] ---\n",
    "\n",
    "        # Update the posture status based on the calculated angles.\n",
    "        if neck_inclination < 40 and torso_inclination < 10:\n",
    "            bad_frames = 0\n",
    "            good_frames += 1\n",
    "            cv2.putText(image, angle_text_string, (10, 30), font, 0.9, light_green, 2)\n",
    "        else:\n",
    "            good_frames = 0\n",
    "            bad_frames += 1\n",
    "            cv2.putText(image, angle_text_string, (10, 30), font, 0.9, red, 2)\n",
    "\n",
    "        # Calculate the time spent in good or bad posture.\n",
    "        good_time = (1 / fps) * good_frames\n",
    "        bad_time = (1 / fps) * bad_frames\n",
    "\n",
    "        # Display the posture time.\n",
    "        if good_time > 0:\n",
    "            time_string_good = 'Good Posture Time : ' + str(round(good_time, 1)) + 's'\n",
    "            cv2.putText(image, time_string_good, (10, h - 20), font, 0.9, green, 2)\n",
    "        else:\n",
    "            time_string_bad = 'Bad Posture Time : ' + str(round(bad_time, 1)) + 's'\n",
    "            cv2.putText(image, time_string_bad, (10, h - 20), font, 0.9, red, 2)\n",
    "\n",
    "        # Send a warning if bad posture persists for more than 30 seconds.\n",
    "        if bad_time > 30:\n",
    "            sendWarning()\n",
    "            print(f\"Bad time: {bad_time}s\")\n",
    "\n",
    "    # Write the processed frame to the output video.\n",
    "    video_output.write(image)\n",
    "\n",
    "print('Finished.')\n",
    "cap.release()\n",
    "video_output.release()"
   ]
  },
  {
   "cell_type": "code",
   "execution_count": null,
   "id": "163c81f1-6a18-40a5-90c3-4116d76dfbf2",
   "metadata": {},
   "outputs": [],
   "source": [
    "while cap.isOpened():\n",
    "    success, image = cap.read()\n",
    "    if not success:\n",
    "        print(\"Null.Frames\")\n",
    "        break\n",
    "\n",
    "    fps = cap.get(cv2.CAP_PROP_FPS)\n",
    "    h, w = image.shape[:2]\n",
    "    image = cv2.cvtColor(image, cv2.COLOR_BGR2RGB)\n",
    "\n",
    "    keypoints = pose.process(image)\n",
    "    image = cv2.cvtColor(image, cv2.COLOR_RGB2BGR)\n",
    "    lm = keypoints.pose_landmarks\n",
    "    lmPose = mp_pose.PoseLandmark\n",
    "\n",
    "    if lm:\n",
    "        # Process the posture logic...\n",
    "        if bad_time > 30:\n",
    "            sendWarning(image)  # Overlay warning on the frame\n",
    "\n",
    "    # Convert the frame to display in Jupyter\n",
    "    _, buffer = cv2.imencode('.png', image)\n",
    "    frame = PIL.Image.open(io.BytesIO(buffer))\n",
    "    \n",
    "    # Display in Jupyter\n",
    "    clear_output(wait=True)\n",
    "    display(frame)\n",
    "\n",
    "    # Write the processed frame to the output video\n",
    "    video_output.write(image)\n",
    "\n",
    "cap.release()\n",
    "video_output.release()"
   ]
  },
  {
   "cell_type": "code",
   "execution_count": null,
   "id": "94d4cf3f",
   "metadata": {},
   "outputs": [],
   "source": []
  }
 ],
 "metadata": {
  "kernelspec": {
   "display_name": "Python 3 (ipykernel)",
   "language": "python",
   "name": "python3"
  },
  "language_info": {
   "codemirror_mode": {
    "name": "ipython",
    "version": 3
   },
   "file_extension": ".py",
   "mimetype": "text/x-python",
   "name": "python",
   "nbconvert_exporter": "python",
   "pygments_lexer": "ipython3",
   "version": "3.9.13"
  }
 },
 "nbformat": 4,
 "nbformat_minor": 5
}
